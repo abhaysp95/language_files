{
 "cells": [
  {
   "cell_type": "code",
   "execution_count": 4,
   "metadata": {},
   "outputs": [
    {
     "ename": "NameError",
     "evalue": "name 'self' is not defined",
     "output_type": "error",
     "traceback": [
      "\u001b[0;31m---------------------------------------------------------------------------\u001b[0m",
      "\u001b[0;31mNameError\u001b[0m                                 Traceback (most recent call last)",
      "\u001b[0;32m<ipython-input-4-5ad077048321>\u001b[0m in \u001b[0;36m<module>\u001b[0;34m\u001b[0m\n\u001b[1;32m      8\u001b[0m \u001b[0;34m\u001b[0m\u001b[0m\n\u001b[1;32m      9\u001b[0m \u001b[0mobj\u001b[0m \u001b[0;34m=\u001b[0m \u001b[0mExample\u001b[0m\u001b[0;34m(\u001b[0m\u001b[0;34m)\u001b[0m\u001b[0;34m\u001b[0m\u001b[0;34m\u001b[0m\u001b[0m\n\u001b[0;32m---> 10\u001b[0;31m \u001b[0mobj\u001b[0m\u001b[0;34m.\u001b[0m\u001b[0mdisplay\u001b[0m\u001b[0;34m(\u001b[0m\u001b[0;34m)\u001b[0m\u001b[0;34m\u001b[0m\u001b[0;34m\u001b[0m\u001b[0m\n\u001b[0m",
      "\u001b[0;32m<ipython-input-4-5ad077048321>\u001b[0m in \u001b[0;36mdisplay\u001b[0;34m()\u001b[0m\n\u001b[1;32m      4\u001b[0m         \u001b[0;34m@\u001b[0m\u001b[0mstaticmethod\u001b[0m\u001b[0;34m\u001b[0m\u001b[0;34m\u001b[0m\u001b[0m\n\u001b[1;32m      5\u001b[0m         \u001b[0;32mdef\u001b[0m \u001b[0mdisplay\u001b[0m\u001b[0;34m(\u001b[0m\u001b[0;34m)\u001b[0m\u001b[0;34m:\u001b[0m\u001b[0;34m\u001b[0m\u001b[0;34m\u001b[0m\u001b[0m\n\u001b[0;32m----> 6\u001b[0;31m                 \u001b[0mself\u001b[0m\u001b[0;34m.\u001b[0m\u001b[0m__num\u001b[0m \u001b[0;34m+=\u001b[0m \u001b[0;36m1\u001b[0m\u001b[0;34m\u001b[0m\u001b[0;34m\u001b[0m\u001b[0m\n\u001b[0m\u001b[1;32m      7\u001b[0m                 \u001b[0mprint\u001b[0m\u001b[0;34m(\u001b[0m\u001b[0mself\u001b[0m\u001b[0;34m.\u001b[0m\u001b[0m__num\u001b[0m\u001b[0;34m)\u001b[0m\u001b[0;34m\u001b[0m\u001b[0;34m\u001b[0m\u001b[0m\n\u001b[1;32m      8\u001b[0m \u001b[0;34m\u001b[0m\u001b[0m\n",
      "\u001b[0;31mNameError\u001b[0m: name 'self' is not defined"
     ]
    }
   ],
   "source": [
    "class Example:\n",
    "\tdef __init__(self):\n",
    "\t\tself.__num = 10\n",
    "\t@staticmethod\n",
    "\tdef display():\n",
    "\t\tself.__num += 1\n",
    "\t\tprint(self.__num)\n",
    "\n",
    "obj = Example()\n",
    "obj.display()\n"
   ]
  },
  {
   "cell_type": "code",
   "execution_count": 8,
   "metadata": {},
   "outputs": [
    {
     "ename": "AttributeError",
     "evalue": "'Child' object has no attribute '_Parent__num'",
     "output_type": "error",
     "traceback": [
      "\u001b[0;31m---------------------------------------------------------------------------\u001b[0m",
      "\u001b[0;31mAttributeError\u001b[0m                            Traceback (most recent call last)",
      "\u001b[0;32m<ipython-input-8-fe768e95bc5b>\u001b[0m in \u001b[0;36m<module>\u001b[0;34m\u001b[0m\n\u001b[1;32m     14\u001b[0m \u001b[0;34m\u001b[0m\u001b[0m\n\u001b[1;32m     15\u001b[0m \u001b[0mobj\u001b[0m \u001b[0;34m=\u001b[0m \u001b[0mChild\u001b[0m\u001b[0;34m(\u001b[0m\u001b[0;36m100\u001b[0m\u001b[0;34m)\u001b[0m  \u001b[0;31m# if child don't have it's own constructor(it get's the parent one or else a default one)\u001b[0m\u001b[0;34m\u001b[0m\u001b[0;34m\u001b[0m\u001b[0m\n\u001b[0;32m---> 16\u001b[0;31m \u001b[0mprint\u001b[0m\u001b[0;34m(\u001b[0m\u001b[0mobj\u001b[0m\u001b[0;34m.\u001b[0m\u001b[0mget_num\u001b[0m\u001b[0;34m(\u001b[0m\u001b[0;34m)\u001b[0m\u001b[0;34m)\u001b[0m\u001b[0;34m\u001b[0m\u001b[0;34m\u001b[0m\u001b[0m\n\u001b[0m\u001b[1;32m     17\u001b[0m \u001b[0mobj\u001b[0m\u001b[0;34m.\u001b[0m\u001b[0mshow\u001b[0m\u001b[0;34m(\u001b[0m\u001b[0;34m)\u001b[0m\u001b[0;34m\u001b[0m\u001b[0;34m\u001b[0m\u001b[0m\n",
      "\u001b[0;32m<ipython-input-8-fe768e95bc5b>\u001b[0m in \u001b[0;36mget_num\u001b[0;34m(self)\u001b[0m\n\u001b[1;32m      3\u001b[0m         \u001b[0mself\u001b[0m\u001b[0;34m.\u001b[0m\u001b[0m__num\u001b[0m \u001b[0;34m=\u001b[0m \u001b[0mnum\u001b[0m\u001b[0;34m\u001b[0m\u001b[0;34m\u001b[0m\u001b[0m\n\u001b[1;32m      4\u001b[0m     \u001b[0;32mdef\u001b[0m \u001b[0mget_num\u001b[0m\u001b[0;34m(\u001b[0m\u001b[0mself\u001b[0m\u001b[0;34m)\u001b[0m\u001b[0;34m:\u001b[0m\u001b[0;34m\u001b[0m\u001b[0;34m\u001b[0m\u001b[0m\n\u001b[0;32m----> 5\u001b[0;31m         \u001b[0;32mreturn\u001b[0m \u001b[0mself\u001b[0m\u001b[0;34m.\u001b[0m\u001b[0m__num\u001b[0m\u001b[0;34m\u001b[0m\u001b[0;34m\u001b[0m\u001b[0m\n\u001b[0m\u001b[1;32m      6\u001b[0m \u001b[0;34m\u001b[0m\u001b[0m\n\u001b[1;32m      7\u001b[0m \u001b[0;32mclass\u001b[0m \u001b[0mChild\u001b[0m\u001b[0;34m(\u001b[0m\u001b[0mParent\u001b[0m\u001b[0;34m)\u001b[0m\u001b[0;34m:\u001b[0m\u001b[0;34m\u001b[0m\u001b[0;34m\u001b[0m\u001b[0m\n",
      "\u001b[0;31mAttributeError\u001b[0m: 'Child' object has no attribute '_Parent__num'"
     ]
    }
   ],
   "source": [
    "class Parent:\n",
    "    def __init__(self, num):\n",
    "        self.__num = num\n",
    "    def get_num(self):\n",
    "        return self.__num\n",
    "    \n",
    "class Child(Parent):\n",
    "    # if you'll make this constructor, then Parent class constructor won't get invoked and\n",
    "    # you'll not have attribute _Parent__num invoked to get returned in get_num\n",
    "    def __init__(self, num):\n",
    "        pass\n",
    "    def show(self):\n",
    "        print(\"Child class\")\n",
    "        \n",
    "obj = Child(100)  # if child don't have it's own constructor(it get's the parent one or else a default one)\n",
    "print(obj.get_num())\n",
    "obj.show()"
   ]
  },
  {
   "cell_type": "code",
   "execution_count": 2,
   "metadata": {},
   "outputs": [
    {
     "name": "stdout",
     "output_type": "stream",
     "text": [
      "True\n",
      "Not Eligible\n"
     ]
    }
   ],
   "source": [
    "class NotEligibleException(Exception):\n",
    "    pass\n",
    "\n",
    "class Employee:\n",
    "    def __init__(self, salary):\n",
    "        self.__salary = salary\n",
    "    def check_salary(self):\n",
    "        if self.__salary < 2000:\n",
    "            raise NotEligibleException\n",
    "            return False\n",
    "        else:\n",
    "            return True\n",
    "        \n",
    "emp1 = Employee(5000)\n",
    "emp2 = Employee(1000)\n",
    "try:\n",
    "    status = emp1.check_salary()\n",
    "    print(status)\n",
    "    status = emp2.check_salary()\n",
    "    print(status)\n",
    "except NotEligibleException:\n",
    "    print(\"Not Eligible\")"
   ]
  },
  {
   "cell_type": "code",
   "execution_count": 3,
   "metadata": {},
   "outputs": [
    {
     "name": "stdout",
     "output_type": "stream",
     "text": [
      "30\n"
     ]
    }
   ],
   "source": [
    "class A:\n",
    "    def __init__(self):\n",
    "        self.__x = 20\n",
    "        \n",
    "a = A()\n",
    "a.__x = 30\n",
    "print(a.__x)"
   ]
  },
  {
   "cell_type": "code",
   "execution_count": 9,
   "metadata": {
    "scrolled": true
   },
   "outputs": [
    {
     "name": "stdout",
     "output_type": "stream",
     "text": [
      "Jupyter Notebook 100\n"
     ]
    }
   ],
   "source": [
    "class Test:\n",
    "    @staticmethod\n",
    "    def sample():\n",
    "        print(\"Hello World\")\n",
    "class Test2(Test):\n",
    "    num = 100  # static method and varible can be accessed without creating object\n",
    "    @staticmethod\n",
    "    def sample():\n",
    "        print(\"Jupyter Notebook\", Test2.num)\n",
    "Test2.sample()\n",
    "\n",
    "# if Test2 doesn't have sample() method then it'll inherit from Test"
   ]
  },
  {
   "cell_type": "code",
   "execution_count": 12,
   "metadata": {},
   "outputs": [
    {
     "name": "stdout",
     "output_type": "stream",
     "text": [
      "300\n"
     ]
    }
   ],
   "source": [
    "class Parent1:\n",
    "    def __init__(self):\n",
    "        self.num = 100\n",
    "class Parent2:\n",
    "    def __init__(self):\n",
    "        self.num = 200\n",
    "class Parent3:\n",
    "    def __init__(self):\n",
    "        self.num = 300\n",
    "        \n",
    "# the first in the list of multiple inherited class will be used for inheritance stuff\n",
    "# also, order of inheriting stuff will be, first Parent3 -> Parent1 -> Parent2\n",
    "class Sample(Parent3,Parent1,Parent2):\n",
    "    pass\n",
    "print(Sample().num)"
   ]
  },
  {
   "cell_type": "code",
   "execution_count": 19,
   "metadata": {
    "scrolled": true
   },
   "outputs": [
    {
     "name": "stdout",
     "output_type": "stream",
     "text": [
      "100\n"
     ]
    }
   ],
   "source": [
    "class Parent1:\n",
    "    def __init__(self):\n",
    "        self.num = 100\n",
    "class Parent2():\n",
    "    def mtd(self):\n",
    "        print(self.num)\n",
    "\n",
    "# it took self.num from Parent1 and mtd() from Parent2 and since mtd() is now also Sample class method\n",
    "# this method can use self.num obtained from Parent1\n",
    "class Sample(Parent1, Parent2):\n",
    "    pass\n",
    "Sample().mtd()"
   ]
  },
  {
   "cell_type": "code",
   "execution_count": 37,
   "metadata": {},
   "outputs": [
    {
     "name": "stdout",
     "output_type": "stream",
     "text": [
      "201\n",
      "201\n",
      "201\n"
     ]
    },
    {
     "data": {
      "text/plain": [
       "100"
      ]
     },
     "execution_count": 37,
     "metadata": {},
     "output_type": "execute_result"
    }
   ],
   "source": [
    "class Base:\n",
    "    def __init__(self):\n",
    "        self.__value = 200\n",
    "    def get_value(self):\n",
    "        return self.__value + 1\n",
    "        # return 10\n",
    "    \n",
    "class Child(Base):\n",
    "    # default constructor gives access to reference variable of parent class\n",
    "    # but you'll override the default constructor, it'll not invoke super()\n",
    "    # def __init__(self):\n",
    "        # pass\n",
    "    def get_num(self):\n",
    "        print(self.get_value())\n",
    "        num = 100\n",
    "        return num\n",
    "    \n",
    "class GrandChild(Child):\n",
    "    # since you have overridden the constructor, it'll not be able to call Child class constructor\n",
    "    # and hence you'll not have self.__value from by get_value() from Base in scope, so you have to\n",
    "    # invoke super() constructor yourselves\n",
    "    def __init__(self):\n",
    "        super().__init__()\n",
    "        self.num = 200\n",
    "        \n",
    "child = Child()\n",
    "child.get_num()\n",
    "grandchild = GrandChild()\n",
    "print(grandchild.get_value())\n",
    "grandchild.get_num()"
   ]
  },
  {
   "cell_type": "code",
   "execution_count": 32,
   "metadata": {},
   "outputs": [
    {
     "name": "stdout",
     "output_type": "stream",
     "text": [
      "150\n"
     ]
    }
   ],
   "source": [
    "class ClassA:\n",
    "    def __init__(self):\n",
    "        self.__var_one = 100\n",
    "    def method_one(self):\n",
    "        return self.__var_one\n",
    "    \n",
    "class ClassB(ClassA):\n",
    "    # since question has overridden default constructor of derived class, you have to invoke super() constructor yourselves\n",
    "    def __init__(self, var_two):\n",
    "        super().__init__()\n",
    "        self.__var_two = var_two\n",
    "    def method_two(self):\n",
    "        final_val = self.__var_two + self.method_one()\n",
    "        return final_val\n",
    "    \n",
    "bobj = ClassB(50)\n",
    "print(bobj.method_two())"
   ]
  },
  {
   "cell_type": "code",
   "execution_count": 1,
   "metadata": {},
   "outputs": [
    {
     "name": "stdout",
     "output_type": "stream",
     "text": [
      "End of function\n",
      "Invalid index\n",
      "End of program\n"
     ]
    }
   ],
   "source": [
    "def fun(input_list, index):\n",
    "    try:\n",
    "        output_list = [0] * len(input_list)\n",
    "        output_list[index] = input_list[index] / int(input_list[index + 1])\n",
    "        return output_list\n",
    "    except ValueError:\n",
    "        print(\"Invalide Value\")\n",
    "    except ZeroDivisionError:\n",
    "        print(\"Division by Zero\")\n",
    "    finally:\n",
    "        print(\"End of function\")\n",
    "\n",
    "try:\n",
    "    list1 = [2, 4, '6', 2, 8]\n",
    "    list2 = fun(list1, 4)  # answer of mcq is 'End of function' 'End of program', possible only when index passed is 3, not 4\n",
    "except TypeError:\n",
    "    print(\"Invalid type\")\n",
    "except IndexError:\n",
    "    print(\"Invalid index\")\n",
    "finally:\n",
    "    print(\"End of program\")"
   ]
  },
  {
   "cell_type": "code",
   "execution_count": 2,
   "metadata": {
    "scrolled": true
   },
   "outputs": [
    {
     "name": "stdout",
     "output_type": "stream",
     "text": [
      "num1: 5 , num2: 4 *\n",
      "num1: 5 , num2: 4 *\n",
      "num1: 5 , num2: 3 *\n",
      "num1: 5 , num2: 2 *\n",
      "num1: 5 , num2: 1 *\n",
      "num1: 5 , num2: 0 *\n",
      "num1: 5 , num2: -1 *\n"
     ]
    }
   ],
   "source": [
    "num1 = 5\n",
    "num2 = 4\n",
    "while (num2 >= 1):\n",
    "    print(\"num1:\", num1, \", num2:\", num2, \"*\")\n",
    "    for index in range(1, num1 + 1):\n",
    "        print(\"num1:\", num1, \", num2:\", num2, \"*\")\n",
    "        num2 -= 1\n",
    "    print(\"num1:\", num1, \", num2:\", num2, \"*\")"
   ]
  },
  {
   "cell_type": "code",
   "execution_count": 8,
   "metadata": {},
   "outputs": [
    {
     "name": "stdout",
     "output_type": "stream",
     "text": [
      "1 1 1\n"
     ]
    }
   ],
   "source": [
    "class A:\n",
    "    def __str__(self):\n",
    "        return '1'\n",
    "class B(A):\n",
    "    def __init__(self):\n",
    "        super().__init__()\n",
    "class C(B):\n",
    "    def __init__(self):\n",
    "        super().__init__()\n",
    "def main():\n",
    "    obj1 = B()\n",
    "    obj2 = A()\n",
    "    obj3 = C()\n",
    "    print(obj1, obj2, obj3)\n",
    "main()"
   ]
  }
 ],
 "metadata": {
  "kernelspec": {
   "display_name": "Python 3",
   "language": "python",
   "name": "python3"
  },
  "language_info": {
   "codemirror_mode": {
    "name": "ipython",
    "version": 3
   },
   "file_extension": ".py",
   "mimetype": "text/x-python",
   "name": "python",
   "nbconvert_exporter": "python",
   "pygments_lexer": "ipython3",
   "version": "3.9.2"
  }
 },
 "nbformat": 4,
 "nbformat_minor": 4
}
