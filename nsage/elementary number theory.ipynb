{
 "cells": [
  {
   "cell_type": "code",
   "execution_count": 8,
   "metadata": {},
   "outputs": [
    {
     "name": "stdout",
     "output_type": "stream",
     "text": [
      "0 0\n"
     ]
    }
   ],
   "source": [
    "print(15 %3, -15 %3)"
   ]
  },
  {
   "cell_type": "code",
   "execution_count": 16,
   "metadata": {},
   "outputs": [
    {
     "name": "stdout",
     "output_type": "stream",
     "text": [
      "{1, 2, 34, 4, 68, 8, 136, 16, 17, 272}\n",
      "{1, 2, 4, 1076, 538, 269}\n",
      "GCD of a, b:  4\n"
     ]
    }
   ],
   "source": [
    "b = 1076\n",
    "a = 272\n",
    "diva = Set(divisors(a))  # you have to convert it into set to use intersection(it's just python)\n",
    "print(diva)\n",
    "divb = Set(divisors(b))\n",
    "print(divb)\n",
    "a_int_b = diva.intersection(divb)\n",
    "print('GCD of a, b: ', max(a_int_b))"
   ]
  },
  {
   "cell_type": "code",
   "execution_count": 18,
   "metadata": {},
   "outputs": [
    {
     "name": "stdout",
     "output_type": "stream",
     "text": [
      "1076  =  272  *  3  +  260\n"
     ]
    }
   ],
   "source": [
    "# a and b are previously defined\n",
    "r = b % a\n",
    "q = floor(b / a)\n",
    "print(b, ' = ', a, ' * ', q, ' + ', r)"
   ]
  },
  {
   "cell_type": "code",
   "execution_count": 19,
   "metadata": {},
   "outputs": [
    {
     "name": "stdout",
     "output_type": "stream",
     "text": [
      "272  =  260  *  1  +  12\n"
     ]
    }
   ],
   "source": [
    "# test again,\n",
    "b, a = a, r\n",
    "r = b % a\n",
    "q = floor(b / a)\n",
    "print(b, ' = ', a, ' * ', q, ' + ', r)"
   ]
  },
  {
   "cell_type": "code",
   "execution_count": 20,
   "metadata": {},
   "outputs": [
    {
     "name": "stdout",
     "output_type": "stream",
     "text": [
      "260  =  12  *  21  +  8\n"
     ]
    }
   ],
   "source": [
    "# test again,\n",
    "b, a = a, r\n",
    "r = b % a\n",
    "q = floor(b / a)\n",
    "print(b, ' = ', a, ' * ', q, ' + ', r)"
   ]
  },
  {
   "cell_type": "code",
   "execution_count": 25,
   "metadata": {},
   "outputs": [
    {
     "name": "stdout",
     "output_type": "stream",
     "text": [
      "1076  =  272  *  3  +  260\n",
      "272  =  260  *  1  +  12\n",
      "260  =  12  *  21  +  8\n",
      "12  =  8  *  1  +  4\n",
      "8  =  4  *  2  +  0\n",
      "GCD is:  4\n"
     ]
    }
   ],
   "source": [
    "# Euclidean algorithm to Find GCD\n",
    "b = 1076\n",
    "a = 272\n",
    "while (True):\n",
    "    r = b % a\n",
    "    q = floor(b / a)\n",
    "    print(b, ' = ', a, ' * ', q, ' + ', r)\n",
    "    if (r == 0):\n",
    "        break\n",
    "    b, a = a, r\n",
    "print('GCD is: ', a)"
   ]
  },
  {
   "cell_type": "code",
   "execution_count": 26,
   "metadata": {},
   "outputs": [
    {
     "name": "stdout",
     "output_type": "stream",
     "text": [
      "4\n"
     ]
    }
   ],
   "source": [
    "# instead of above pythonic approach, sage use this\n",
    "print(gcd(1076, 272))"
   ]
  },
  {
   "cell_type": "code",
   "execution_count": 27,
   "metadata": {},
   "outputs": [
    {
     "name": "stdout",
     "output_type": "stream",
     "text": [
      "73168\n"
     ]
    }
   ],
   "source": [
    "# lcm\n",
    "print(lcm(1076, 272))"
   ]
  },
  {
   "cell_type": "code",
   "execution_count": 28,
   "metadata": {},
   "outputs": [
    {
     "name": "stdout",
     "output_type": "stream",
     "text": [
      "2\n"
     ]
    }
   ],
   "source": [
    "# gcd of more than 2 numbers\n",
    "print(gcd([6, 10, 12])) # change the input to list"
   ]
  },
  {
   "cell_type": "code",
   "execution_count": 29,
   "metadata": {},
   "outputs": [
    {
     "name": "stdout",
     "output_type": "stream",
     "text": [
      "True\n"
     ]
    }
   ],
   "source": [
    "# theorem: lcm of two numbers and product of gcd is equal to product of the number\n",
    "b = 1076\n",
    "a = 272\n",
    "print(gcd(a, b) * lcm(a, b) == a * b )"
   ]
  },
  {
   "cell_type": "code",
   "execution_count": 35,
   "metadata": {},
   "outputs": [
    {
     "name": "stdout",
     "output_type": "stream",
     "text": [
      "(272, 0, 1) (260, 1, -3)\n",
      "(260, 1, -3) (12, -1, 4)\n",
      "(12, -1, 4) (8, 22, -87)\n",
      "(8, 22, -87) (4, -23, 91)\n",
      "(4, -23, 91) (0, 68, -269)\n"
     ]
    }
   ],
   "source": [
    "# Bezout's identity\n",
    "# d = ax + by, d = gcd(a, b)\n",
    "b = 1076\n",
    "a = 272\n",
    "v1 = vector([1076, 1, 0])\n",
    "v2 = vector([272, 0, 1])\n",
    "q = floor(v1[0] / v2[0])\n",
    "v1, v2 = v2, v1 - q * v2\n",
    "print(v1, v2)\n",
    "q = floor(v1[0] / v2[0])\n",
    "v1, v2 = v2, v1 - q * v2\n",
    "print(v1, v2)\n",
    "q = floor(v1[0] / v2[0])\n",
    "v1, v2 = v2, v1 - q * v2\n",
    "print(v1, v2)\n",
    "q = floor(v1[0] / v2[0])\n",
    "v1, v2 = v2, v1 - q * v2\n",
    "print(v1, v2)\n",
    "q = floor(v1[0] / v2[0])\n",
    "v1, v2 = v2, v1 - q * v2\n",
    "print(v1, v2)"
   ]
  },
  {
   "cell_type": "code",
   "execution_count": 37,
   "metadata": {},
   "outputs": [
    {
     "name": "stdout",
     "output_type": "stream",
     "text": [
      "4\n",
      "8\n"
     ]
    }
   ],
   "source": [
    "# verification of equation\n",
    "\n",
    "print(-23 * 1076 + 91 * 272)\n",
    "# print(22 * 1076 + (-87) * 272)"
   ]
  },
  {
   "cell_type": "code",
   "execution_count": 38,
   "metadata": {
    "scrolled": false
   },
   "outputs": [
    {
     "name": "stdout",
     "output_type": "stream",
     "text": [
      "(4, -23, 91)\n"
     ]
    }
   ],
   "source": [
    "print(xgcd(1076, 272))"
   ]
  },
  {
   "cell_type": "code",
   "execution_count": 1,
   "metadata": {},
   "outputs": [
    {
     "name": "stdout",
     "output_type": "stream",
     "text": [
      "LDE is solvable\n",
      "Sol for given LDE is,  -138 546\n",
      "General soln for LDE:  269*t - 138  and  -68*t + 546\n"
     ]
    }
   ],
   "source": [
    "# solve LDE 1076x + 272y = 24\n",
    "b = 1076\n",
    "a = 272\n",
    "c = 24\n",
    "d = gcd(a, b)\n",
    "if c % d == 0:\n",
    "    print('LDE is solvable')\n",
    "    bic = xgcd(b, a)\n",
    "    x0 = bic[1]\n",
    "    y0 = bic[2]\n",
    "    m = c / d\n",
    "    print('Sol for given LDE is, ', x0 * m, y0 * m)\n",
    "    var('t')\n",
    "    # x1 = x0 * m and y1 = y0 * m\n",
    "    print('General soln for LDE: ', x0 * m + b / d * t, ' and ', y0 * m - a / d * t)\n",
    "else:\n",
    "    print('LDE is not solvable')"
   ]
  },
  {
   "cell_type": "code",
   "execution_count": 4,
   "metadata": {
    "collapsed": true
   },
   "outputs": [
    {
     "name": "stdout",
     "output_type": "stream",
     "text": [
      "True\n",
      "[2, 3, 5, 7, 11, 13, 17, 19, 23, 29, 31, 37, 41, 43, 47, 53, 59, 61, 67, 71, 73, 79, 83, 89]\n",
      "[37, 41, 43, 47, 53, 59, 61, 67, 71, 73, 79, 83, 89]\n",
      "[2, 3, 5, 7, 11, 13, 17, 19, 23, 29, 31, 37, 41, 43, 47, 53, 59, 61, 67, 71, 73, 79, 83, 89, 97, 101, 103, 107, 109, 113, 127, 131, 137, 139, 149, 151, 157, 163, 167, 173, 179, 181, 191, 193, 197, 199, 211, 223, 227, 229, 233, 239, 241, 251, 257, 263, 269, 271, 277, 281, 283, 293, 307, 311, 313, 317, 331, 337, 347, 349, 353, 359, 367, 373, 379, 383, 389, 397, 401, 409, 419, 421, 431, 433, 439, 443, 449, 457, 461, 463, 467, 479, 487, 491, 499, 503, 509, 521, 523, 541]\n",
      "25\n",
      "Set of all prime numbers: 2, 3, 5, 7, ...\n",
      "+Infinity\n",
      "31\n"
     ]
    }
   ],
   "source": [
    "# finding prime\n",
    "print(is_prime(17))\n",
    "print(list(primes(97)))  # end is inclusive\n",
    "print(prime_range(37, 97))  # end is exclusive\n",
    "print(primes_first_n(100))  # first 100 prime numbers\n",
    "print(prime_pi(100))  # how many prime number upto 100\n",
    "P = Primes()\n",
    "print(P)\n",
    "print(P.cardinality())\n",
    "n = 10\n",
    "print(P.unrank(n))  # you'll actually get 11th prime(so, do 1 less)"
   ]
  },
  {
   "cell_type": "code",
   "execution_count": 7,
   "metadata": {
    "collapsed": true
   },
   "outputs": [
    {
     "name": "stdout",
     "output_type": "stream",
     "text": [
      "[1, 2, 3, 6, 313, 626, 939, 1878]\n",
      "[2, 3, 313]\n",
      "2 * 3 * 313\n"
     ]
    }
   ],
   "source": [
    "# divisors\n",
    "a = 1878\n",
    "print(divisors(a))\n",
    "print(prime_divisors(a))\n",
    "print(factor(a))"
   ]
  },
  {
   "cell_type": "code",
   "execution_count": 9,
   "metadata": {
    "collapsed": true
   },
   "outputs": [
    {
     "name": "stdout",
     "output_type": "stream",
     "text": [
      "11101010\n",
      "352\n",
      "ea\n"
     ]
    }
   ],
   "source": [
    "# changing number system\n",
    "print(234.str(base=2))\n",
    "print(234.str(base=8))\n",
    "print(234.str(base=16))"
   ]
  },
  {
   "cell_type": "code",
   "execution_count": 10,
   "metadata": {
    "collapsed": true
   },
   "outputs": [
    {
     "name": "stdout",
     "output_type": "stream",
     "text": [
      "820\n"
     ]
    }
   ],
   "source": [
    "# from any other number base to decimal, we need to tell base of source\n",
    "print(Integer('1100110100', base=2))"
   ]
  },
  {
   "cell_type": "code",
   "execution_count": 11,
   "metadata": {},
   "outputs": [
    {
     "name": "stdout",
     "output_type": "stream",
     "text": [
      "6 2\n"
     ]
    }
   ],
   "source": [
    "# modulus\n",
    "a = mod(15, 9)\n",
    "b = mod(11, 9)\n",
    "print(a, b)"
   ]
  },
  {
   "cell_type": "code",
   "execution_count": 12,
   "metadata": {
    "collapsed": true
   },
   "outputs": [
    {
     "name": "stdout",
     "output_type": "stream",
     "text": [
      "0\n"
     ]
    }
   ],
   "source": [
    "# difference between using mod method and % is that\n",
    "print(a ^ 2) # answer is 0\n",
    "# because, a ^ 2 is 36, cause a is 6 and mod(36, 9) is 0"
   ]
  },
  {
   "cell_type": "code",
   "execution_count": 15,
   "metadata": {},
   "outputs": [
    {
     "name": "stdout",
     "output_type": "stream",
     "text": [
      "a is invertible\n",
      "inverse module is:  5\n"
     ]
    }
   ],
   "source": [
    "# check for invertible modulo n\n",
    "a = 10\n",
    "m = 7\n",
    "if gcd(a, m) == 1:\n",
    "    print('a is invertible')\n",
    "    print('inverse module is: ', mod(a, m) ^ (-1))\n",
    "else:\n",
    "    print('a is not invertible')"
   ]
  },
  {
   "cell_type": "code",
   "execution_count": 16,
   "metadata": {},
   "outputs": [
    {
     "name": "stdout",
     "output_type": "stream",
     "text": [
      "The congruence is solvable\n",
      "1  is solution\n",
      "6  is solution\n",
      "11  is solution\n"
     ]
    }
   ],
   "source": [
    "# solving linear congruence in one variable ax = b mod m\n",
    "a = 12\n",
    "b = 27\n",
    "m = 15\n",
    "d = gcd(a, b)\n",
    "if (m % d) == 0:\n",
    "    print('The congruence is solvable')\n",
    "    numbers = [1,2,..,14]\n",
    "    for number in numbers:\n",
    "        if mod(a * number, m) == mod(b, m):\n",
    "            print(number, ' is solution')"
   ]
  }
 ],
 "metadata": {
  "kernelspec": {
   "display_name": "SageMath 9.2",
   "language": "sage",
   "name": "sagemath"
  },
  "language_info": {
   "codemirror_mode": {
    "name": "ipython",
    "version": 3
   },
   "file_extension": ".py",
   "mimetype": "text/x-python",
   "name": "python",
   "nbconvert_exporter": "python",
   "pygments_lexer": "ipython3",
   "version": "3.9.2"
  }
 },
 "nbformat": 4,
 "nbformat_minor": 4
}
