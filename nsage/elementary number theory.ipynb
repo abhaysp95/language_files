{
 "cells": [
  {
   "cell_type": "code",
   "execution_count": 8,
   "metadata": {},
   "outputs": [
    {
     "name": "stdout",
     "output_type": "stream",
     "text": [
      "0 0\n"
     ]
    }
   ],
   "source": [
    "print(15 %3, -15 %3)"
   ]
  },
  {
   "cell_type": "code",
   "execution_count": 16,
   "metadata": {},
   "outputs": [
    {
     "name": "stdout",
     "output_type": "stream",
     "text": [
      "{1, 2, 34, 4, 68, 8, 136, 16, 17, 272}\n",
      "{1, 2, 4, 1076, 538, 269}\n",
      "GCD of a, b:  4\n"
     ]
    }
   ],
   "source": [
    "b = 1076\n",
    "a = 272\n",
    "diva = Set(divisors(a))  # you have to convert it into set to use intersection(it's just python)\n",
    "print(diva)\n",
    "divb = Set(divisors(b))\n",
    "print(divb)\n",
    "a_int_b = diva.intersection(divb)\n",
    "print('GCD of a, b: ', max(a_int_b))"
   ]
  },
  {
   "cell_type": "code",
   "execution_count": 18,
   "metadata": {},
   "outputs": [
    {
     "name": "stdout",
     "output_type": "stream",
     "text": [
      "1076  =  272  *  3  +  260\n"
     ]
    }
   ],
   "source": [
    "# a and b are previously defined\n",
    "r = b % a\n",
    "q = floor(b / a)\n",
    "print(b, ' = ', a, ' * ', q, ' + ', r)"
   ]
  },
  {
   "cell_type": "code",
   "execution_count": 19,
   "metadata": {},
   "outputs": [
    {
     "name": "stdout",
     "output_type": "stream",
     "text": [
      "272  =  260  *  1  +  12\n"
     ]
    }
   ],
   "source": [
    "# test again,\n",
    "b, a = a, r\n",
    "r = b % a\n",
    "q = floor(b / a)\n",
    "print(b, ' = ', a, ' * ', q, ' + ', r)"
   ]
  },
  {
   "cell_type": "code",
   "execution_count": 20,
   "metadata": {},
   "outputs": [
    {
     "name": "stdout",
     "output_type": "stream",
     "text": [
      "260  =  12  *  21  +  8\n"
     ]
    }
   ],
   "source": [
    "# test again,\n",
    "b, a = a, r\n",
    "r = b % a\n",
    "q = floor(b / a)\n",
    "print(b, ' = ', a, ' * ', q, ' + ', r)"
   ]
  },
  {
   "cell_type": "code",
   "execution_count": 25,
   "metadata": {},
   "outputs": [
    {
     "name": "stdout",
     "output_type": "stream",
     "text": [
      "1076  =  272  *  3  +  260\n",
      "272  =  260  *  1  +  12\n",
      "260  =  12  *  21  +  8\n",
      "12  =  8  *  1  +  4\n",
      "8  =  4  *  2  +  0\n",
      "GCD is:  4\n"
     ]
    }
   ],
   "source": [
    "# Euclidean algorithm to Find GCD\n",
    "b = 1076\n",
    "a = 272\n",
    "while (True):\n",
    "    r = b % a\n",
    "    q = floor(b / a)\n",
    "    print(b, ' = ', a, ' * ', q, ' + ', r)\n",
    "    if (r == 0):\n",
    "        break\n",
    "    b, a = a, r\n",
    "print('GCD is: ', a)"
   ]
  },
  {
   "cell_type": "code",
   "execution_count": 26,
   "metadata": {},
   "outputs": [
    {
     "name": "stdout",
     "output_type": "stream",
     "text": [
      "4\n"
     ]
    }
   ],
   "source": [
    "# instead of above pythonic approach, sage use this\n",
    "print(gcd(1076, 272))"
   ]
  },
  {
   "cell_type": "code",
   "execution_count": 27,
   "metadata": {},
   "outputs": [
    {
     "name": "stdout",
     "output_type": "stream",
     "text": [
      "73168\n"
     ]
    }
   ],
   "source": [
    "# lcm\n",
    "print(lcm(1076, 272))"
   ]
  },
  {
   "cell_type": "code",
   "execution_count": 28,
   "metadata": {},
   "outputs": [
    {
     "name": "stdout",
     "output_type": "stream",
     "text": [
      "2\n"
     ]
    }
   ],
   "source": [
    "# gcd of more than 2 numbers\n",
    "print(gcd([6, 10, 12])) # change the input to list"
   ]
  },
  {
   "cell_type": "code",
   "execution_count": 29,
   "metadata": {},
   "outputs": [
    {
     "name": "stdout",
     "output_type": "stream",
     "text": [
      "True\n"
     ]
    }
   ],
   "source": [
    "# theorem: lcm of two numbers and product of gcd is equal to product of the number\n",
    "b = 1076\n",
    "a = 272\n",
    "print(gcd(a, b) * lcm(a, b) == a * b )"
   ]
  },
  {
   "cell_type": "code",
   "execution_count": 35,
   "metadata": {},
   "outputs": [
    {
     "name": "stdout",
     "output_type": "stream",
     "text": [
      "(272, 0, 1) (260, 1, -3)\n",
      "(260, 1, -3) (12, -1, 4)\n",
      "(12, -1, 4) (8, 22, -87)\n",
      "(8, 22, -87) (4, -23, 91)\n",
      "(4, -23, 91) (0, 68, -269)\n"
     ]
    }
   ],
   "source": [
    "# Bezout's identity\n",
    "# d = ax + by, d = gcd(a, b)\n",
    "b = 1076\n",
    "a = 272\n",
    "v1 = vector([1076, 1, 0])\n",
    "v2 = vector([272, 0, 1])\n",
    "q = floor(v1[0] / v2[0])\n",
    "v1, v2 = v2, v1 - q * v2\n",
    "print(v1, v2)\n",
    "q = floor(v1[0] / v2[0])\n",
    "v1, v2 = v2, v1 - q * v2\n",
    "print(v1, v2)\n",
    "q = floor(v1[0] / v2[0])\n",
    "v1, v2 = v2, v1 - q * v2\n",
    "print(v1, v2)\n",
    "q = floor(v1[0] / v2[0])\n",
    "v1, v2 = v2, v1 - q * v2\n",
    "print(v1, v2)\n",
    "q = floor(v1[0] / v2[0])\n",
    "v1, v2 = v2, v1 - q * v2\n",
    "print(v1, v2)"
   ]
  },
  {
   "cell_type": "code",
   "execution_count": 37,
   "metadata": {},
   "outputs": [
    {
     "name": "stdout",
     "output_type": "stream",
     "text": [
      "4\n",
      "8\n"
     ]
    }
   ],
   "source": [
    "# verification of equation\n",
    "\n",
    "print(-23 * 1076 + 91 * 272)\n",
    "# print(22 * 1076 + (-87) * 272)"
   ]
  },
  {
   "cell_type": "code",
   "execution_count": 38,
   "metadata": {},
   "outputs": [
    {
     "name": "stdout",
     "output_type": "stream",
     "text": [
      "(4, -23, 91)\n"
     ]
    }
   ],
   "source": [
    "print(xgcd(1076, 272))"
   ]
  },
  {
   "cell_type": "code",
   "execution_count": 40,
   "metadata": {},
   "outputs": [
    {
     "name": "stdout",
     "output_type": "stream",
     "text": [
      "LDE is solvable\n",
      "Sol for given LDE is,  -138 546\n",
      "General soln for LDE:  269*t - 138  and  68*t + 546\n"
     ]
    }
   ],
   "source": [
    "# solve LDE 1076x + 272y = 24\n",
    "b = 1076\n",
    "a = 272\n",
    "c = 24\n",
    "d = gcd(a, b)\n",
    "if c % d == 0:\n",
    "    print('LDE is solvable')\n",
    "    bic = xgcd(b, a)\n",
    "    x0 = bic[1]\n",
    "    y0 = bic[2]\n",
    "    m = c / d\n",
    "    print('Sol for given LDE is, ', x0 * m, y0 * m)\n",
    "    var('t')\n",
    "    print('General soln for LDE: ', x0 * m + b / d * t, ' and ', y0 * m + a / d * t)\n",
    "else:\n",
    "    print('LDE is not solvable')"
   ]
  }
 ],
 "metadata": {
  "kernelspec": {
   "display_name": "SageMath 9.2",
   "language": "sage",
   "name": "sagemath"
  },
  "language_info": {
   "codemirror_mode": {
    "name": "ipython",
    "version": 3
   },
   "file_extension": ".py",
   "mimetype": "text/x-python",
   "name": "python",
   "nbconvert_exporter": "python",
   "pygments_lexer": "ipython3",
   "version": "3.9.2"
  }
 },
 "nbformat": 4,
 "nbformat_minor": 4
}
